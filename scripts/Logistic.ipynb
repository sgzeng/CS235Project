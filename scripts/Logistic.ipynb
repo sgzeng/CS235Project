{
 "cells": [
  {
   "cell_type": "code",
   "execution_count": 7,
   "metadata": {},
   "outputs": [
    {
     "name": "stdout",
     "output_type": "stream",
     "text": [
      "/home/mingchen/Course/CS235/CS235Project/scripts\n"
     ]
    }
   ],
   "source": [
    "datapath='../../features'\n",
    "Flods=[0,1,2,3]\n",
    "import numpy as np\n",
    "import matplotlib.pyplot as plt\n",
    "from IPython import display\n",
    "import time\n",
    "import os\n",
    "print(os.getcwd())"
   ]
  },
  {
   "cell_type": "code",
   "execution_count": 8,
   "metadata": {},
   "outputs": [],
   "source": [
    "# Write your code to calculate the same here\n",
    "def sigmoid(x):\n",
    "    return 1/(1+np.exp(-x))\n",
    "#print ((phi(trainX,False)).shape,trainY.shape)\n",
    "def lrloss(w,X,Y,lmbda):\n",
    "    ## !!Your code here!!\n",
    "    loss=0\n",
    "    for i in range(0,X.shape[0]):\n",
    "        loss+=-np.log(sigmoid(Y[i]*X[i,:].dot(w))+0.0000000001)\n",
    "    loss+=lmbda*sum(w[1:]**2)/2\n",
    "    return loss\n",
    "\n",
    "def lrgrad(w,X,Y,lmbda):\n",
    "    ## !!Your code here!!\n",
    "    \n",
    "    ## compute P=X*w.*Y\n",
    "    P=sigmoid(np.multiply(np.matmul(X,w),Y))\n",
    "    \n",
    "    ## grad=-X^T*((1-P).*Y)  (first part)\n",
    "    grad=-np.matmul(X.T,np.multiply(1-P,Y))\n",
    "    \n",
    "    ## grad(1:end)+=\\lambda*w(1:end)  (second part)\n",
    "    grad[1:]+=lmbda*w[1:]\n",
    "    \n",
    "    return grad\n",
    "    \n",
    "def lrhess(w,X,Y,lmbda):\n",
    "    ## !!Your code here!!\n",
    "    \n",
    "    ## compute P=X*w.*Y\n",
    "    P=sigmoid(np.multiply(np.matmul(X,w),Y))\n",
    "    \n",
    "    ## R=p_i(1-p_i)\n",
    "    R=np.diagflat(np.multiply(P,1-P))\n",
    "    \n",
    "    ## hessian=X^T*R*X  (first part)\n",
    "    hess=np.matmul(X.T,np.matmul(R,X))\n",
    "    \n",
    "    ## hessian+=\\lambda*I(I_{1,1}=0)   (second part)\n",
    "    hess[1:,1:]+=lmbda*np.eye(w.shape[0]-1)\n",
    "    \n",
    "    return hess"
   ]
  },
  {
   "cell_type": "code",
   "execution_count": 10,
   "metadata": {},
   "outputs": [],
   "source": [
    "# You should implement \"newton\" below\n",
    "# However, as an example, here is gradient descent implemented with a constant step size\n",
    "# (note: this is *not* a good implementation, but just to show the idea)\n",
    "# The \"ittfn\" can help with debugging, but isn't necessary\n",
    "\n",
    "# def graddesc(w,eta,fn,gradfn,ittfn=None):\n",
    "#     oldf = fn(w)\n",
    "#     df = 1\n",
    "    \n",
    "#     while(df>1e-6):\n",
    "#         w = w - eta*gradfn(w)\n",
    "#         newf = fn(w)\n",
    "#         df = oldf-newf # hope to be positive, or we've over-shot and will be done\n",
    "#         print(df)\n",
    "#         if ittfn is not None:\n",
    "#             ittfn(w,eta,newf)\n",
    "#         oldf = newf\n",
    "#     return w\n",
    "def graddesc(w,eta,fn,gradfn, ittfn=None):\n",
    "    oldf = fn(w)\n",
    "    df = 1\n",
    "    while(df>1e-6):\n",
    "        g = gradfn(w)\n",
    "        #eta=0.3\n",
    "        while eta>1e-10:\n",
    "            neww = w - eta*g\n",
    "            newf = fn(neww)\n",
    "            if oldf>newf*1.001:\n",
    "                break\n",
    "            eta *= 0.5\n",
    "        if ittfn is not None:\n",
    "            ittfn(w,eta,newf)\n",
    "#         if eta<=1e-10:\n",
    "#             break\n",
    "        df=newf-oldf\n",
    "        oldf = newf\n",
    "        \n",
    "        w = neww\n",
    "    return w    \n",
    "# You should write this function\n",
    "# note, to find A^{-1}*b, use np.linalg.solve(A,b)\n",
    "def newton(w,fn,gradfn,hessfn,ittfn=None):\n",
    "    # !! Your Code Here !!\n",
    "    oldf=fn(w)\n",
    "    df=1\n",
    "    step_size=1.0\n",
    "    while(df>1e-6):\n",
    "        neww = w - np.linalg.solve(hessfn(w),gradfn(w))\n",
    "        newf = fn(neww)\n",
    "        df=oldf-newf\n",
    "        if df<=0:\n",
    "            step_size*=2\n",
    "            while(step_size>1e-10):\n",
    "                neww = w - step_size*gradfn(w)\n",
    "                newf=fn(neww)\n",
    "                df=oldf-newf\n",
    "                if df>1e-6:\n",
    "                    break\n",
    "                step_size/=2\n",
    "        if df>0:\n",
    "            w=neww\n",
    "            oldf=newf \n",
    "        \n",
    "    return w\n",
    "def trainGraddesc(X,Y,lmbda,eta):\n",
    "    w0 = np.zeros((X.shape[1],1))\n",
    "    return graddesc(w0,eta,\n",
    "                   lambda w :lrloss(w,X,Y,lmbda),\n",
    "                   lambda w :lrgrad(w,X,Y,lmbda))\n",
    "def trainlr(X,Y,lmbda):\n",
    "    w0 = np.zeros((X.shape[1],1)) # starting w at zero works well for LR\n",
    "    return newton(w0,lambda w : lrloss(w,X,Y,lmbda),\n",
    "                  lambda w : lrgrad(w,X,Y,lmbda),\n",
    "                  lambda w : lrhess(w,X,Y,lmbda))\n",
    "\n",
    "def lrerrorrate(X,Y,w):\n",
    "    return np.sum(Y*np.matmul(X,w)<=0)/Y.shape[0]"
   ]
  },
  {
   "cell_type": "code",
   "execution_count": 98,
   "metadata": {},
   "outputs": [
    {
     "name": "stdout",
     "output_type": "stream",
     "text": [
      "(18000, 55) (18000, 1)\n",
      "(6000, 55) (6000, 1)\n",
      "0.4086666666666667\n",
      "0.3385\n",
      "0.2778333333333333\n",
      "0.23366666666666666\n",
      "0.16466666666666666\n",
      "0.15916666666666668\n",
      "0.13683333333333333\n",
      "0.1345\n",
      "0.13616666666666666\n",
      "0.13666666666666666\n",
      "0.13633333333333333\n",
      "0.1365\n",
      "0.13733333333333334\n",
      "0.13783333333333334\n",
      "0.1375\n",
      "0.13716666666666666\n",
      "0.135\n",
      "0.13183333333333333\n",
      "0.14216666666666666\n",
      "0.17616666666666667\n",
      "0.19016666666666668\n"
     ]
    },
    {
     "data": {
      "image/png": "[encoded data removed]",
      "text/plain": [
       "<Figure size 432x288 with 1 Axes>"
      ]
     },
     "metadata": {
      "needs_background": "light"
     },
     "output_type": "display_data"
    },
    {
     "name": "stdout",
     "output_type": "stream",
     "text": [
      "(18000, 55) (18000, 1)\n",
      "(6000, 55) (6000, 1)\n",
      "0.3435\n",
      "0.3263333333333333\n",
      "0.2956666666666667\n",
      "0.233\n",
      "0.1785\n",
      "0.16516666666666666\n",
      "0.15233333333333332\n",
      "0.14866666666666667\n",
      "0.14766666666666667\n",
      "0.146\n",
      "0.14533333333333334\n",
      "0.145\n",
      "0.14466666666666667\n",
      "0.144\n",
      "0.14266666666666666\n",
      "0.141\n",
      "0.13916666666666666\n",
      "0.13766666666666666\n",
      "0.146\n"
     ]
    },
    {
     "ename": "KeyboardInterrupt",
     "evalue": "",
     "output_type": "error",
     "traceback": [
      "\u001b[1;31m---------------------------------------------------------------------------\u001b[0m",
      "\u001b[1;31mKeyboardInterrupt\u001b[0m                         Traceback (most recent call last)",
      "\u001b[1;32m<ipython-input-98-2e6e1b25fbaa>\u001b[0m in \u001b[0;36m<module>\u001b[1;34m\u001b[0m\n\u001b[0;32m     33\u001b[0m     \u001b[0mprint\u001b[0m\u001b[1;33m(\u001b[0m\u001b[0mtestX\u001b[0m\u001b[1;33m.\u001b[0m\u001b[0mshape\u001b[0m\u001b[1;33m,\u001b[0m\u001b[0mtestY\u001b[0m\u001b[1;33m.\u001b[0m\u001b[0mshape\u001b[0m\u001b[1;33m)\u001b[0m\u001b[1;33m\u001b[0m\u001b[1;33m\u001b[0m\u001b[0m\n\u001b[0;32m     34\u001b[0m     \u001b[1;32mfor\u001b[0m \u001b[0mlmbda\u001b[0m \u001b[1;32min\u001b[0m \u001b[0mlmbdas\u001b[0m\u001b[1;33m:\u001b[0m\u001b[1;33m\u001b[0m\u001b[1;33m\u001b[0m\u001b[0m\n\u001b[1;32m---> 35\u001b[1;33m         \u001b[0mmyw\u001b[0m \u001b[1;33m=\u001b[0m \u001b[0mtrainlr\u001b[0m\u001b[1;33m(\u001b[0m\u001b[0mtrainX\u001b[0m\u001b[1;33m,\u001b[0m\u001b[0mtrainY\u001b[0m\u001b[1;33m,\u001b[0m\u001b[0mlmbda\u001b[0m\u001b[1;33m)\u001b[0m\u001b[1;33m\u001b[0m\u001b[1;33m\u001b[0m\u001b[0m\n\u001b[0m\u001b[0;32m     36\u001b[0m         \u001b[1;31m#myw = trainGraddesc(trainX,trainY,lmbda,1)\u001b[0m\u001b[1;33m\u001b[0m\u001b[1;33m\u001b[0m\u001b[1;33m\u001b[0m\u001b[0m\n\u001b[0;32m     37\u001b[0m         \u001b[0moverall_err\u001b[0m\u001b[1;33m[\u001b[0m\u001b[1;33m-\u001b[0m\u001b[1;36m1\u001b[0m\u001b[1;33m]\u001b[0m\u001b[1;33m.\u001b[0m\u001b[0mappend\u001b[0m\u001b[1;33m(\u001b[0m\u001b[0mlrerrorrate\u001b[0m\u001b[1;33m(\u001b[0m\u001b[0mtestX\u001b[0m\u001b[1;33m,\u001b[0m\u001b[0mtestY\u001b[0m\u001b[1;33m,\u001b[0m\u001b[0mmyw\u001b[0m\u001b[1;33m)\u001b[0m\u001b[1;33m)\u001b[0m\u001b[1;33m\u001b[0m\u001b[1;33m\u001b[0m\u001b[0m\n",
      "\u001b[1;32m<ipython-input-82-e7a121f78769>\u001b[0m in \u001b[0;36mtrainlr\u001b[1;34m(X, Y, lmbda)\u001b[0m\n\u001b[0;32m     72\u001b[0m     return newton(w0,lambda w : lrloss(w,X,Y,lmbda),\n\u001b[0;32m     73\u001b[0m                   \u001b[1;32mlambda\u001b[0m \u001b[0mw\u001b[0m \u001b[1;33m:\u001b[0m \u001b[0mlrgrad\u001b[0m\u001b[1;33m(\u001b[0m\u001b[0mw\u001b[0m\u001b[1;33m,\u001b[0m\u001b[0mX\u001b[0m\u001b[1;33m,\u001b[0m\u001b[0mY\u001b[0m\u001b[1;33m,\u001b[0m\u001b[0mlmbda\u001b[0m\u001b[1;33m)\u001b[0m\u001b[1;33m,\u001b[0m\u001b[1;33m\u001b[0m\u001b[1;33m\u001b[0m\u001b[0m\n\u001b[1;32m---> 74\u001b[1;33m                   lambda w : lrhess(w,X,Y,lmbda))\n\u001b[0m\u001b[0;32m     75\u001b[0m \u001b[1;33m\u001b[0m\u001b[0m\n\u001b[0;32m     76\u001b[0m \u001b[1;32mdef\u001b[0m \u001b[0mlrerrorrate\u001b[0m\u001b[1;33m(\u001b[0m\u001b[0mX\u001b[0m\u001b[1;33m,\u001b[0m\u001b[0mY\u001b[0m\u001b[1;33m,\u001b[0m\u001b[0mw\u001b[0m\u001b[1;33m)\u001b[0m\u001b[1;33m:\u001b[0m\u001b[1;33m\u001b[0m\u001b[1;33m\u001b[0m\u001b[0m\n",
      "\u001b[1;32m<ipython-input-82-e7a121f78769>\u001b[0m in \u001b[0;36mnewton\u001b[1;34m(w, fn, gradfn, hessfn, ittfn)\u001b[0m\n\u001b[0;32m     46\u001b[0m     \u001b[0mstep_size\u001b[0m\u001b[1;33m=\u001b[0m\u001b[1;36m1.0\u001b[0m\u001b[1;33m\u001b[0m\u001b[1;33m\u001b[0m\u001b[0m\n\u001b[0;32m     47\u001b[0m     \u001b[1;32mwhile\u001b[0m\u001b[1;33m(\u001b[0m\u001b[0mdf\u001b[0m\u001b[1;33m>\u001b[0m\u001b[1;36m1e-6\u001b[0m\u001b[1;33m)\u001b[0m\u001b[1;33m:\u001b[0m\u001b[1;33m\u001b[0m\u001b[1;33m\u001b[0m\u001b[0m\n\u001b[1;32m---> 48\u001b[1;33m         \u001b[0mneww\u001b[0m \u001b[1;33m=\u001b[0m \u001b[0mw\u001b[0m \u001b[1;33m-\u001b[0m \u001b[0mnp\u001b[0m\u001b[1;33m.\u001b[0m\u001b[0mlinalg\u001b[0m\u001b[1;33m.\u001b[0m\u001b[0msolve\u001b[0m\u001b[1;33m(\u001b[0m\u001b[0mhessfn\u001b[0m\u001b[1;33m(\u001b[0m\u001b[0mw\u001b[0m\u001b[1;33m)\u001b[0m\u001b[1;33m,\u001b[0m\u001b[0mgradfn\u001b[0m\u001b[1;33m(\u001b[0m\u001b[0mw\u001b[0m\u001b[1;33m)\u001b[0m\u001b[1;33m)\u001b[0m\u001b[1;33m\u001b[0m\u001b[1;33m\u001b[0m\u001b[0m\n\u001b[0m\u001b[0;32m     49\u001b[0m         \u001b[0mnewf\u001b[0m \u001b[1;33m=\u001b[0m \u001b[0mfn\u001b[0m\u001b[1;33m(\u001b[0m\u001b[0mneww\u001b[0m\u001b[1;33m)\u001b[0m\u001b[1;33m\u001b[0m\u001b[1;33m\u001b[0m\u001b[0m\n\u001b[0;32m     50\u001b[0m         \u001b[0mdf\u001b[0m\u001b[1;33m=\u001b[0m\u001b[0moldf\u001b[0m\u001b[1;33m-\u001b[0m\u001b[0mnewf\u001b[0m\u001b[1;33m\u001b[0m\u001b[1;33m\u001b[0m\u001b[0m\n",
      "\u001b[1;32m<ipython-input-82-e7a121f78769>\u001b[0m in \u001b[0;36m<lambda>\u001b[1;34m(w)\u001b[0m\n\u001b[0;32m     72\u001b[0m     return newton(w0,lambda w : lrloss(w,X,Y,lmbda),\n\u001b[0;32m     73\u001b[0m                   \u001b[1;32mlambda\u001b[0m \u001b[0mw\u001b[0m \u001b[1;33m:\u001b[0m \u001b[0mlrgrad\u001b[0m\u001b[1;33m(\u001b[0m\u001b[0mw\u001b[0m\u001b[1;33m,\u001b[0m\u001b[0mX\u001b[0m\u001b[1;33m,\u001b[0m\u001b[0mY\u001b[0m\u001b[1;33m,\u001b[0m\u001b[0mlmbda\u001b[0m\u001b[1;33m)\u001b[0m\u001b[1;33m,\u001b[0m\u001b[1;33m\u001b[0m\u001b[1;33m\u001b[0m\u001b[0m\n\u001b[1;32m---> 74\u001b[1;33m                   lambda w : lrhess(w,X,Y,lmbda))\n\u001b[0m\u001b[0;32m     75\u001b[0m \u001b[1;33m\u001b[0m\u001b[0m\n\u001b[0;32m     76\u001b[0m \u001b[1;32mdef\u001b[0m \u001b[0mlrerrorrate\u001b[0m\u001b[1;33m(\u001b[0m\u001b[0mX\u001b[0m\u001b[1;33m,\u001b[0m\u001b[0mY\u001b[0m\u001b[1;33m,\u001b[0m\u001b[0mw\u001b[0m\u001b[1;33m)\u001b[0m\u001b[1;33m:\u001b[0m\u001b[1;33m\u001b[0m\u001b[1;33m\u001b[0m\u001b[0m\n",
      "\u001b[1;32m<ipython-input-81-b915237c793d>\u001b[0m in \u001b[0;36mlrhess\u001b[1;34m(w, X, Y, lmbda)\u001b[0m\n\u001b[0;32m     35\u001b[0m \u001b[1;33m\u001b[0m\u001b[0m\n\u001b[0;32m     36\u001b[0m     \u001b[1;31m## hessian=X^T*R*X  (first part)\u001b[0m\u001b[1;33m\u001b[0m\u001b[1;33m\u001b[0m\u001b[1;33m\u001b[0m\u001b[0m\n\u001b[1;32m---> 37\u001b[1;33m     \u001b[0mhess\u001b[0m\u001b[1;33m=\u001b[0m\u001b[0mnp\u001b[0m\u001b[1;33m.\u001b[0m\u001b[0mmatmul\u001b[0m\u001b[1;33m(\u001b[0m\u001b[0mX\u001b[0m\u001b[1;33m.\u001b[0m\u001b[0mT\u001b[0m\u001b[1;33m,\u001b[0m\u001b[0mnp\u001b[0m\u001b[1;33m.\u001b[0m\u001b[0mmatmul\u001b[0m\u001b[1;33m(\u001b[0m\u001b[0mR\u001b[0m\u001b[1;33m,\u001b[0m\u001b[0mX\u001b[0m\u001b[1;33m)\u001b[0m\u001b[1;33m)\u001b[0m\u001b[1;33m\u001b[0m\u001b[1;33m\u001b[0m\u001b[0m\n\u001b[0m\u001b[0;32m     38\u001b[0m \u001b[1;33m\u001b[0m\u001b[0m\n\u001b[0;32m     39\u001b[0m     \u001b[1;31m## hessian+=\\lambda*I(I_{1,1}=0)   (second part)\u001b[0m\u001b[1;33m\u001b[0m\u001b[1;33m\u001b[0m\u001b[1;33m\u001b[0m\u001b[0m\n",
      "\u001b[1;31mKeyboardInterrupt\u001b[0m: "
     ]
    }
   ],
   "source": [
    "lmbdas=10**np.arange(1,7.1,0.3)\n",
    "overall_err=[]\n",
    "for flod in Flods:\n",
    "    overall_err.append([])\n",
    "    trainfile=open('{0}/cv_{1}_4_{2}_4/cv_train_features_{1}_4_{2}_4.csv'.format(datapath,flod,flod+1))\n",
    "    testfile=open('{0}/cv_{1}_4_{2}_4/cv_test_features_{1}_4_{2}_4.csv'.format(datapath,flod,flod+1))\n",
    "    trainX=[]\n",
    "    trainY=[]\n",
    "    testX=[]\n",
    "    testY=[]\n",
    "    for line in trainfile:\n",
    "        line=line.split(',')[1:]\n",
    "        if line[0]=='safe_type':\n",
    "            continue\n",
    "        line=[float(k) for k in line]\n",
    "        trainX.append(line[1:])\n",
    "        trainY.append(line[0])\n",
    "    trainX=np.array(trainX)\n",
    "    trainY=np.array(trainY)[:,np.newaxis].astype(int)\n",
    "    trainY[trainY==0]=-1\n",
    "    print(trainX.shape,trainY.shape)\n",
    "    \n",
    "    for line in testfile:\n",
    "        line=line.split(',')[1:]\n",
    "        if line[0]=='safe_type':\n",
    "            continue\n",
    "        line=[float(k) for k in line]\n",
    "        testX.append(line[1:])\n",
    "        testY.append(line[0])\n",
    "    testX=np.array(testX)\n",
    "    testY=np.array(testY)[:,np.newaxis].astype(int)\n",
    "    testY[testY==0]=-1\n",
    "    print(testX.shape,testY.shape)\n",
    "    for lmbda in lmbdas:\n",
    "        myw = trainlr(trainX,trainY,lmbda)\n",
    "        #myw = trainGraddesc(trainX,trainY,lmbda,1)\n",
    "        overall_err[-1].append(lrerrorrate(testX,testY,myw))\n",
    "        print(overall_err[-1][-1])\n",
    "    plt.cla()\n",
    "    plt.plot(lmbdas,overall_err[-1],'b',linewidth=2)\n",
    "    plt.xscale('log')\n",
    "\n",
    "\n",
    "    plt.xlabel('$\\lambda$',fontsize=15)\n",
    "    plt.ylabel('Error rate',fontsize=15)\n",
    "    plt.title('Error distribution',fontsize=15)\n",
    "    plt.xticks(fontsize=13)\n",
    "    plt.yticks(fontsize=13)\n",
    "    \n",
    "    plt.show()"
   ]
  },
  {
   "cell_type": "code",
   "execution_count": 91,
   "metadata": {},
   "outputs": [
    {
     "data": {
      "image/png": "[encoded data removed]",
      "text/plain": [
       "<Figure size 432x288 with 1 Axes>"
      ]
     },
     "metadata": {
      "needs_background": "light"
     },
     "output_type": "display_data"
    }
   ],
   "source": [
    "plt.cla()\n",
    "plt.plot(lmbdas,np.mean(overall_err,0),'b',linewidth=2)\n",
    "plt.xscale('log')\n",
    "\n",
    "\n",
    "plt.xlabel('$\\lambda$',fontsize=15)\n",
    "plt.ylabel('Error rate',fontsize=15)\n",
    "plt.title('Error distribution',fontsize=15)\n",
    "plt.xticks(fontsize=13)\n",
    "plt.yticks(fontsize=13)\n",
    "\n",
    "plt.show()"
   ]
  },
  {
   "cell_type": "code",
   "execution_count": 14,
   "metadata": {},
   "outputs": [
    {
     "name": "stdout",
     "output_type": "stream",
     "text": [
      "((24000, 5), (24000, 1))\n",
      "((6000, 5), (6000, 1))\n"
     ]
    },
    {
     "name": "stderr",
     "output_type": "stream",
     "text": [
      "/home/mingchen/Research/.venv/lib/python2.7/site-packages/ipykernel_launcher.py:3: RuntimeWarning: overflow encountered in exp\n",
      "  This is separate from the ipykernel package so we can avoid doing imports until\n"
     ]
    },
    {
     "name": "stdout",
     "output_type": "stream",
     "text": [
      "0.136\n"
     ]
    }
   ],
   "source": [
    "\n",
    "#lmbdas=10**np.arange(1,5.1,0.5)\n",
    "lmbda=10**6\n",
    "\n",
    "trainfile=open('{0}/full/train_features_full.csv'.format(datapath))\n",
    "testfile=open('{0}/full/test_features_full.csv'.format(datapath))\n",
    "trainX=[]\n",
    "trainY=[]\n",
    "testX=[]\n",
    "testY=[]\n",
    "for line in trainfile:\n",
    "    line=line.split(',')[1:]\n",
    "    if line[0]=='safe_type':\n",
    "        continue\n",
    "    line=[float(k) for k in line]\n",
    "    trainX.append(line[1:])\n",
    "    trainY.append(line[0])\n",
    "trainX=np.array(trainX)[:,:5]\n",
    "trainY=np.array(trainY)[:,np.newaxis].astype(int)\n",
    "trainY[trainY==0]=-1\n",
    "print(trainX.shape,trainY.shape)\n",
    "\n",
    "for line in testfile:\n",
    "    line=line.split(',')[1:]\n",
    "    if line[0]=='safe_type':\n",
    "        continue\n",
    "    line=[float(k) for k in line]\n",
    "    testX.append(line[1:])\n",
    "    testY.append(line[0])\n",
    "testX=np.array(testX)[:,:5]\n",
    "testY=np.array(testY)[:,np.newaxis].astype(int)\n",
    "testY[testY==0]=-1\n",
    "print(testX.shape,testY.shape)\n",
    "    \n",
    "myw = trainlr(trainX,trainY,lmbda)\n",
    "ans=sigmoid(np.matmul(testX,myw))\n",
    "threshold=0.5\n",
    "ans[ans>=threshold]=1\n",
    "ans[ans<threshold]=-1\n",
    "err=np.sum(testY*ans<=0)/float(testY.shape[0])\n",
    "outfile=open('{0}/full/result_lr.csv'.format(datapath),'w')\n",
    "\n",
    "testY[testY==-1]=0\n",
    "ans[ans==-1]=0\n",
    "for i in range(0,testY.shape[0]):\n",
    "    outfile.write('{0},{1}\\n'.format(int(testY[i][0]),ans[i][0]))\n",
    "print(err)\n",
    "outfile.close()"
   ]
  },
  {
   "cell_type": "code",
   "execution_count": 15,
   "metadata": {},
   "outputs": [
    {
     "name": "stdout",
     "output_type": "stream",
     "text": [
      "0.8355\n"
     ]
    }
   ],
   "source": [
    "infile=open('{0}/full/result_lr.csv'.format(datapath))\n",
    "count=0\n",
    "score=0\n",
    "for line in infile:\n",
    "    count+=1\n",
    "    line=line.replace('\\n','').split(',')\n",
    "    line=np.array([float(k) for k in line]).astype(int)\n",
    "    if line[0]==line[1]:\n",
    "        score+=1\n",
    "    score-=(line[1]-line[0])*line[1]\n",
    "print(float(score)/count)\n",
    "infile.close()"
   ]
  },
  {
   "cell_type": "code",
   "execution_count": null,
   "metadata": {},
   "outputs": [],
   "source": []
  }
 ],
 "metadata": {
  "kernelspec": {
   "display_name": "Python 2",
   "language": "python",
   "name": "python2"
  },
  "language_info": {
   "codemirror_mode": {
    "name": "ipython",
    "version": 2
   },
   "file_extension": ".py",
   "mimetype": "text/x-python",
   "name": "python",
   "nbconvert_exporter": "python",
   "pygments_lexer": "ipython2",
   "version": "2.7.15"
  }
 },
 "nbformat": 4,
 "nbformat_minor": 2
}
