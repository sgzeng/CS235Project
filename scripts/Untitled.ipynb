{
 "cells": [
  {
   "cell_type": "code",
   "execution_count": 3,
   "metadata": {},
   "outputs": [
    {
     "name": "stdout",
     "output_type": "stream",
     "text": [
      "D:\\Course\\CS235\\CS235Project\\scripts\n"
     ]
    }
   ],
   "source": [
    "datapath='../../features'\n",
    "Flods=[0,1,2,3]\n",
    "import numpy as np\n",
    "import matplotlib.pyplot as plt\n",
    "from IPython import display\n",
    "import time\n",
    "import os\n",
    "import sklearn\n",
    "from sklearn.neural_network import MLPClassifier\n",
    "print(os.getcwd())"
   ]
  },
  {
   "cell_type": "code",
   "execution_count": 21,
   "metadata": {},
   "outputs": [
    {
     "name": "stdout",
     "output_type": "stream",
     "text": [
      "(18000, 55) (18000, 1)\n",
      "(6000, 55) (6000, 1)\n",
      "[0 0 0 ... 0 0 0]\n",
      "(18000, 55) (18000, 1)\n",
      "(6000, 55) (6000, 1)\n",
      "[0 0 0 ... 0 0 0]\n",
      "(18000, 55) (18000, 1)\n",
      "(6000, 55) (6000, 1)\n",
      "[0 0 0 ... 0 0 0]\n",
      "(18000, 55) (18000, 1)\n",
      "(6000, 55) (6000, 1)\n",
      "[0 0 0 ... 0 0 0]\n"
     ]
    }
   ],
   "source": [
    "for flod in Flods:\n",
    "    trainfile=open('{0}/cv_{1}_4_{2}_4/cv_train_features_{1}_4_{2}_4.csv'.format(datapath,flod,flod+1))\n",
    "    testfile=open('{0}/cv_{1}_4_{2}_4/cv_test_features_{1}_4_{2}_4.csv'.format(datapath,flod,flod+1))\n",
    "    trainX=[]\n",
    "    trainY=[]\n",
    "    testX=[]\n",
    "    testY=[]\n",
    "    for line in trainfile:\n",
    "        line=line.split(',')[1:]\n",
    "        if line[0]=='safe_type':\n",
    "            continue\n",
    "        line=[float(k) for k in line]\n",
    "        trainX.append(line[1:])\n",
    "        trainY.append(line[0])\n",
    "    trainX=np.array(trainX)\n",
    "    trainY=np.array(trainY)[:,np.newaxis].astype(int)\n",
    "    #trainY[trainY==0]=-1\n",
    "    print(trainX.shape,trainY.shape)\n",
    "    \n",
    "    for line in testfile:\n",
    "        line=line.split(',')[1:]\n",
    "        if line[0]=='safe_type':\n",
    "            continue\n",
    "        line=[float(k) for k in line]\n",
    "        testX.append(line[1:])\n",
    "        testY.append(line[0])\n",
    "    testX=np.array(testX)\n",
    "    testY=np.array(testY)[:,np.newaxis].astype(int)\n",
    "    #testY[testY==0]=-1\n",
    "    print(testX.shape,testY.shape)\n",
    "    \n",
    "    \n",
    "    clf = MLPClassifier(activation='relu',solver='sgd', alpha=1e-5,hidden_layer_sizes=(100,100), random_state=1,shuffle=True,warm_start=True)\n",
    "    clf.fit(trainX,trainY[:,0])\n",
    "    ans=clf.predict(testX)\n",
    "    print(ans)\n",
    "#     err=np.sum(testY[:,0]*ans<=0)/testY.shape[0]\n",
    "#     print(err)"
   ]
  },
  {
   "cell_type": "code",
   "execution_count": null,
   "metadata": {},
   "outputs": [],
   "source": []
  }
 ],
 "metadata": {
  "kernelspec": {
   "display_name": "Python 3",
   "language": "python",
   "name": "python3"
  },
  "language_info": {
   "codemirror_mode": {
    "name": "ipython",
    "version": 3
   },
   "file_extension": ".py",
   "mimetype": "text/x-python",
   "name": "python",
   "nbconvert_exporter": "python",
   "pygments_lexer": "ipython3",
   "version": "3.7.1"
  }
 },
 "nbformat": 4,
 "nbformat_minor": 2
}
