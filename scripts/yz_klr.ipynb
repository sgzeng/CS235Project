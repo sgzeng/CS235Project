{
 "cells": [
  {
   "cell_type": "code",
   "execution_count": 4,
   "metadata": {},
   "outputs": [
    {
     "name": "stdout",
     "output_type": "stream",
     "text": [
      "/Users/yujiazhai/iCloud Drive (Archive) - 1/Desktop/CS235Project/scripts\n"
     ]
    }
   ],
   "source": [
    "datapath='../../features'\n",
    "Flods=[0]\n",
    "import numpy as np\n",
    "import matplotlib.pyplot as plt\n",
    "from IPython import display\n",
    "import time\n",
    "import os\n",
    "import gc\n",
    "print(os.getcwd())"
   ]
  },
  {
   "cell_type": "code",
   "execution_count": 5,
   "metadata": {},
   "outputs": [
    {
     "ename": "SyntaxError",
     "evalue": "invalid syntax (<ipython-input-5-7b77ac8a4522>, line 10)",
     "output_type": "error",
     "traceback": [
      "\u001b[0;36m  File \u001b[0;32m\"<ipython-input-5-7b77ac8a4522>\"\u001b[0;36m, line \u001b[0;32m10\u001b[0m\n\u001b[0;31m    loss+=-np.log(sigmoid(Y[i]*(K[:,i].T@a))+0.0000000000000001)\u001b[0m\n\u001b[0m                                        ^\u001b[0m\n\u001b[0;31mSyntaxError\u001b[0m\u001b[0;31m:\u001b[0m invalid syntax\n"
     ]
    }
   ],
   "source": [
    "### Yujia's klr (rbf and sigmoid)\n",
    "\n",
    "def sigmoid(x):\n",
    "    return 1/(1+np.exp(-x))\n",
    "\n",
    "###################\n",
    "def debuger(w,eta,newf):\n",
    "    print(eta,newf)\n",
    "    \n",
    "def klrloss(a,K,Y,lmbda):\n",
    "    anob = a.copy()\n",
    "    anob[0] = 0\n",
    "    return (np.sum(np.log(1+np.exp(-Y*(K@a))),0).T + 0.5*lmbda*(a.T@K@a))[0]\n",
    "\n",
    "def klrgrad(a,K,Y,lmbda):\n",
    "    anob = a.copy()\n",
    "    anob[0] = 0\n",
    "    return -np.sum((1-1/(1+np.exp(-Y*(K@a))))*K*Y,0)[:,np.newaxis] + lmbda*(K@a)\n",
    "\n",
    "def trainklr(K,Y,lmbda):\n",
    "    a0 = np.zeros((K.shape[1],1)) # starting a at zero works well for KLR\n",
    "    return graddesc(a0,lambda a : klrloss(a,K,Y,lmbda),\n",
    "                  lambda a : klrgrad(a,K,Y,lmbda))\n",
    "\n",
    "def klrerrorrate(K,Y,a):\n",
    "    #return np.sum(Y*K@a<=0)/Y.shape[0]\n",
    "    return np.sum(Y*(K.T@a)<=0)/Y.shape[0]\n",
    "\n",
    "# provided code for grad desc. eta is starting value. ittfn is optional function to call on each iteration\n",
    "\n",
    "def graddesc(w,fn,gradfn,eta = 0.3, ittfn=None):\n",
    "    oldf = fn(w)\n",
    "    df = 1\n",
    "    while(df>1e-6):\n",
    "        g = gradfn(w)\n",
    "        eta=0.3\n",
    "        while eta>1e-10:\n",
    "            neww = w - eta*g\n",
    "            newf = fn(neww)\n",
    "            if oldf>newf*1.001:\n",
    "                break\n",
    "            eta *= 0.5\n",
    "        if ittfn is not None:\n",
    "            ittfn(w,eta,newf)\n",
    "        if eta<=1e-10:\n",
    "            break\n",
    "        df=newf-oldf\n",
    "        oldf = newf\n",
    "        \n",
    "        w = neww\n",
    "    return w\n",
    "'''\n",
    "def graddesc(w,fn,gradfn,eta = 0.1, ittfn=None):\n",
    "    oldf = fn(w)\n",
    "    df = 1\n",
    "    while(df>1e-6):\n",
    "        print(df)\n",
    "        w = w - eta*gradfn(w)\n",
    "        newf = fn(w)\n",
    "        df = oldf - newf # hope to be positive, or we've over-shot and will be done\n",
    "        if ittfn is not None:\n",
    "            ittfn(w,eta,newf)\n",
    "        oldf = newf\n",
    "    return w\n",
    "'''\n",
    "\n",
    "def up(x):\n",
    "    if len(x.shape)==1:\n",
    "        return x[np.newaxis,:]\n",
    "    else:\n",
    "        return x\n",
    "\n",
    "def rbfkernel(x1,x2,sigma):\n",
    "    x1 = up(x1)\n",
    "    x2 = up(x2)\n",
    "    d = x1[:,np.newaxis,:] - x2[np.newaxis,:,:]\n",
    "    return np.exp(-np.sum(d*d,2)/(2*sigma*sigma))\n",
    "\n",
    "\n",
    "def sigmoid_kernel(data1, data2, sigmoid_alpha, sigmoid_constant):\n",
    "    return np.tanh(sigmoid_alpha*np.dot(data1, data2.T)+sigmoid_constant)\n",
    "#def rbfkernel(data1, data2, sigmoid_alpha, sigmoid_constant):\n",
    "#    return np.tanh(sigmoid_alpha*np.dot(data1, data2)+sigmoid_constant)"
   ]
  },
  {
   "cell_type": "code",
   "execution_count": 3,
   "metadata": {
    "scrolled": true
   },
   "outputs": [
    {
     "name": "stdout",
     "output_type": "stream",
     "text": [
      "((18000, 55), (18000, 1))\n",
      "((6000, 55), (6000, 1))\n"
     ]
    },
    {
     "ename": "NameError",
     "evalue": "name 'rbfkernel' is not defined",
     "output_type": "error",
     "traceback": [
      "\u001b[0;31m---------------------------------------------------------------------------\u001b[0m",
      "\u001b[0;31mNameError\u001b[0m                                 Traceback (most recent call last)",
      "\u001b[0;32m<ipython-input-3-dc3702edda42>\u001b[0m in \u001b[0;36m<module>\u001b[0;34m()\u001b[0m\n\u001b[1;32m     52\u001b[0m                 \u001b[0mK\u001b[0m\u001b[0;34m=\u001b[0m\u001b[0mnp\u001b[0m\u001b[0;34m.\u001b[0m\u001b[0mzeros\u001b[0m\u001b[0;34m(\u001b[0m\u001b[0;34m(\u001b[0m\u001b[0mm\u001b[0m\u001b[0;34m,\u001b[0m\u001b[0mm\u001b[0m\u001b[0;34m)\u001b[0m\u001b[0;34m)\u001b[0m\u001b[0;34m\u001b[0m\u001b[0m\n\u001b[1;32m     53\u001b[0m                 \u001b[0;32mfor\u001b[0m \u001b[0mi\u001b[0m \u001b[0;32min\u001b[0m \u001b[0mrange\u001b[0m\u001b[0;34m(\u001b[0m\u001b[0;36m0\u001b[0m\u001b[0;34m,\u001b[0m\u001b[0mm\u001b[0m\u001b[0;34m)\u001b[0m\u001b[0;34m:\u001b[0m\u001b[0;34m\u001b[0m\u001b[0m\n\u001b[0;32m---> 54\u001b[0;31m                     \u001b[0mK\u001b[0m\u001b[0;34m[\u001b[0m\u001b[0mi\u001b[0m\u001b[0;34m,\u001b[0m\u001b[0;34m:\u001b[0m\u001b[0;34m]\u001b[0m\u001b[0;34m=\u001b[0m\u001b[0mrbfkernel\u001b[0m\u001b[0;34m(\u001b[0m\u001b[0mtrainX\u001b[0m\u001b[0;34m[\u001b[0m\u001b[0mi\u001b[0m\u001b[0;34m,\u001b[0m\u001b[0;34m:\u001b[0m\u001b[0;34m]\u001b[0m\u001b[0;34m,\u001b[0m\u001b[0mtrainX\u001b[0m\u001b[0;34m,\u001b[0m\u001b[0msigma\u001b[0m\u001b[0;34m)\u001b[0m\u001b[0;34m\u001b[0m\u001b[0m\n\u001b[0m\u001b[1;32m     55\u001b[0m                 \u001b[0;32mprint\u001b[0m\u001b[0;34m(\u001b[0m\u001b[0mK\u001b[0m\u001b[0;34m.\u001b[0m\u001b[0mshape\u001b[0m\u001b[0;34m)\u001b[0m\u001b[0;34m\u001b[0m\u001b[0m\n\u001b[1;32m     56\u001b[0m                 \u001b[0mnp\u001b[0m\u001b[0;34m.\u001b[0m\u001b[0msave\u001b[0m\u001b[0;34m(\u001b[0m\u001b[0;34m'{0}/cv_{1}_4_{2}_4/K_train_{1}_4_{2}_4_{3}'\u001b[0m\u001b[0;34m.\u001b[0m\u001b[0mformat\u001b[0m\u001b[0;34m(\u001b[0m\u001b[0mdatapath\u001b[0m\u001b[0;34m,\u001b[0m\u001b[0mflod\u001b[0m\u001b[0;34m,\u001b[0m\u001b[0mflod\u001b[0m\u001b[0;34m+\u001b[0m\u001b[0;36m1\u001b[0m\u001b[0;34m,\u001b[0m\u001b[0msigma_round\u001b[0m\u001b[0;34m)\u001b[0m\u001b[0;34m,\u001b[0m\u001b[0mK\u001b[0m\u001b[0;34m)\u001b[0m\u001b[0;34m\u001b[0m\u001b[0m\n",
      "\u001b[0;31mNameError\u001b[0m: name 'rbfkernel' is not defined"
     ]
    }
   ],
   "source": [
    "\n",
    "lmbdas=10**np.arange(-3,5.1,0.5)\n",
    "#lmbdas=[1]\n",
    "#sigmas=10**np.arange(0.2,0.8,0.1)\n",
    "sigmas=[3.16]\n",
    "overall_err=[]\n",
    "for flod in Flods:\n",
    "    overall_err.append([])\n",
    "    trainfile=open('{0}/cv_{1}_4_{2}_4/cv_train_features_{1}_4_{2}_4.csv'.format(datapath,flod,flod+1))\n",
    "    testfile=open('{0}/cv_{1}_4_{2}_4/cv_test_features_{1}_4_{2}_4.csv'.format(datapath,flod,flod+1))\n",
    "    trainX=[]\n",
    "    trainY=[]\n",
    "    testX=[]\n",
    "    testY=[]\n",
    "    for line in trainfile:\n",
    "        line=line.split(',')[1:]\n",
    "        if line[0]=='safe_type':\n",
    "            continue\n",
    "        line=[float(k) for k in line]\n",
    "        trainX.append(line[1:])\n",
    "        trainY.append(line[0])\n",
    "    trainX=np.array(trainX)\n",
    "    trainY=np.array(trainY)[:,np.newaxis]\n",
    "    trainY[trainY==0]=-1\n",
    "    print(trainX.shape,trainY.shape)\n",
    "\n",
    "    for line in testfile:\n",
    "        line=line.split(',')[1:]\n",
    "        if line[0]=='safe_type':\n",
    "            continue\n",
    "        line=[float(k) for k in line]\n",
    "        testX.append(line[1:])\n",
    "        testY.append(line[0])\n",
    "    testX=np.array(testX)\n",
    "    testY[testY==0]=-1\n",
    "    testY=np.array(testY)[:,np.newaxis]\n",
    "    print(testX.shape,testY.shape)\n",
    "    \n",
    "    \n",
    "\n",
    "    for lmbda in lmbdas:\n",
    "        for sigma in sigmas:\n",
    "            sigma_round=round(sigma,2)\n",
    "            lmbda_round=round(lmbda,4)\n",
    "            if os.path.exists('{0}/cv_{1}_4_{2}_4/K_train_{1}_4_{2}_4_{3}.npy'.format(datapath,flod,flod+1,sigma_round)) and os.path.exists('{0}/cv_{1}_4_{2}_4/K_test_{1}_4_{2}_4_{3}.npy'.format(datapath,flod,flod+1,sigma_round)):\n",
    "                K=np.load('{0}/cv_{1}_4_{2}_4/K_train_{1}_4_{2}_4_{3}.npy'.format(datapath,flod,flod+1,sigma_round))\n",
    "                K_test=np.load('{0}/cv_{1}_4_{2}_4/K_test_{1}_4_{2}_4_{3}.npy'.format(datapath,flod,flod+1,sigma_round))\n",
    "                print('load from file')\n",
    "                print(K.shape,K_test.shape)\n",
    "            else:\n",
    "                m=trainX.shape[0]\n",
    "                K=np.zeros((m,m))\n",
    "                for i in range(0,m):\n",
    "                    K[i,:]=rbfkernel(trainX[i,:],trainX,sigma)\n",
    "                print(K.shape)\n",
    "                np.save('{0}/cv_{1}_4_{2}_4/K_train_{1}_4_{2}_4_{3}'.format(datapath,flod,flod+1,sigma_round),K)\n",
    "\n",
    "                mt=testX.shape[0]\n",
    "                K_test=np.zeros((m,mt))\n",
    "                for j in range(0,mt):\n",
    "                    K_test[:,j]=rbfkernel(trainX,testX[j,:],sigma)[:,0]\n",
    "                print(K_test.shape)\n",
    "                np.save('{0}/cv_{1}_4_{2}_4/K_test_{1}_4_{2}_4_{3}'.format(datapath,flod,flod+1,sigma_round),K_test)\n",
    "\n",
    "#             for i in range(0,m):\n",
    "#                 for j in range(0,m):\n",
    "#                     K[i,j]=rbfkernel(trainX[i,:],trainX[j,:],sigma)\n",
    "            myw = trainklr(K,trainY,lmbda)\n",
    "#             for i in range(0,mt):\n",
    "#                 for j in range(0,m):\n",
    "#                     K[i,j]=rbfkernel(testX[i,:],trainX[j,:],sigma)\n",
    "            overall_err[-1].append(klrerrorrate(K_test,testY,myw))\n",
    "            print(overall_err[-1][-1])\n",
    "    plt.cla()\n",
    "    plt.plot(lmbdas, overall_err[-1],'b',linewidth=2)\n",
    "    plt.xscale('log')\n",
    "\n",
    "\n",
    "    plt.xlabel('$\\lambda$',fontsize=15)\n",
    "    plt.ylabel('Error rate',fontsize=15)\n",
    "    plt.title('Error distribution',fontsize=15)\n",
    "    plt.xticks(fontsize=13)\n",
    "    plt.yticks(fontsize=13)\n",
    "    \n",
    "    plt.show()\n",
    "    gc.collect()"
   ]
  },
  {
   "cell_type": "code",
   "execution_count": 14,
   "metadata": {},
   "outputs": [
    {
     "data": {
      "image/png": "[encoded data removed]",
      "text/plain": [
       "<Figure size 432x288 with 1 Axes>"
      ]
     },
     "metadata": {
      "needs_background": "light"
     },
     "output_type": "display_data"
    },
    {
     "data": {
      "text/plain": [
       "6458"
      ]
     },
     "execution_count": 14,
     "metadata": {},
     "output_type": "execute_result"
    }
   ],
   "source": [
    "    plt.cla()\n",
    "    plt.plot(sigmas, overall_err[-1],'b',linewidth=2)\n",
    "    plt.xscale('log')\n",
    "\n",
    "\n",
    "#     plt.xlabel('$\\sigma$',fontsize=15)\n",
    "#     plt.ylabel('Error rate',fontsize=15)\n",
    "#     plt.title('Error distribution',fontsize=15)\n",
    "    plt.xticks(fontsize=15)\n",
    "    plt.yticks(fontsize=14)\n",
    "    plt.legend(['Train error'],fontsize=14)\n",
    "    plt.savefig(\"../result/sigma_sensitive.pdf\")\n",
    "    plt.show()\n",
    "    gc.collect()"
   ]
  },
  {
   "cell_type": "code",
   "execution_count": 9,
   "metadata": {
    "scrolled": true
   },
   "outputs": [
    {
     "name": "stdout",
     "output_type": "stream",
     "text": [
      "(24000, 55) (24000, 1)\n",
      "(6000, 55) (6000, 1)\n",
      "(24000, 24000)\n",
      "(24000, 6000)\n"
     ]
    },
    {
     "ename": "NameError",
     "evalue": "name 'Y' is not defined",
     "output_type": "error",
     "traceback": [
      "\u001b[1;31m---------------------------------------------------------------------------\u001b[0m",
      "\u001b[1;31mNameError\u001b[0m                                 Traceback (most recent call last)",
      "\u001b[1;32m<ipython-input-9-ea10c8c430e7>\u001b[0m in \u001b[0;36m<module>\u001b[1;34m\u001b[0m\n\u001b[0;32m     60\u001b[0m \u001b[0mmyw\u001b[0m \u001b[1;33m=\u001b[0m \u001b[0mtrainklr\u001b[0m\u001b[1;33m(\u001b[0m\u001b[0mK\u001b[0m\u001b[1;33m,\u001b[0m\u001b[0mtrainY\u001b[0m\u001b[1;33m,\u001b[0m\u001b[0mlmbda\u001b[0m\u001b[1;33m)\u001b[0m\u001b[1;33m\u001b[0m\u001b[1;33m\u001b[0m\u001b[0m\n\u001b[0;32m     61\u001b[0m \u001b[1;33m\u001b[0m\u001b[0m\n\u001b[1;32m---> 62\u001b[1;33m \u001b[0mans\u001b[0m\u001b[1;33m=\u001b[0m\u001b[1;33m-\u001b[0m\u001b[1;33m(\u001b[0m\u001b[0mY\u001b[0m\u001b[1;33m*\u001b[0m\u001b[1;33m(\u001b[0m\u001b[0mK\u001b[0m\u001b[1;33m.\u001b[0m\u001b[0mT\u001b[0m\u001b[1;33m@\u001b[0m\u001b[0ma\u001b[0m\u001b[1;33m)\u001b[0m\u001b[1;33m)\u001b[0m\u001b[1;33m\u001b[0m\u001b[1;33m\u001b[0m\u001b[0m\n\u001b[0m\u001b[0;32m     63\u001b[0m \u001b[0mnp\u001b[0m\u001b[1;33m.\u001b[0m\u001b[0msum\u001b[0m\u001b[1;33m(\u001b[0m\u001b[0mans\u001b[0m\u001b[1;33m<=\u001b[0m\u001b[1;36m0\u001b[0m\u001b[1;33m)\u001b[0m\u001b[1;33m/\u001b[0m\u001b[0mY\u001b[0m\u001b[1;33m.\u001b[0m\u001b[0mshape\u001b[0m\u001b[1;33m[\u001b[0m\u001b[1;36m0\u001b[0m\u001b[1;33m]\u001b[0m\u001b[1;33m\u001b[0m\u001b[1;33m\u001b[0m\u001b[0m\n\u001b[0;32m     64\u001b[0m \u001b[0moutfile\u001b[0m\u001b[1;33m=\u001b[0m\u001b[0mopen\u001b[0m\u001b[1;33m(\u001b[0m\u001b[1;34m'{0}/full/result.csv'\u001b[0m\u001b[1;33m.\u001b[0m\u001b[0mformat\u001b[0m\u001b[1;33m(\u001b[0m\u001b[0mdatapath\u001b[0m\u001b[1;33m)\u001b[0m\u001b[1;33m,\u001b[0m\u001b[1;34m'w'\u001b[0m\u001b[1;33m)\u001b[0m\u001b[1;33m\u001b[0m\u001b[1;33m\u001b[0m\u001b[0m\n",
      "\u001b[1;31mNameError\u001b[0m: name 'Y' is not defined"
     ]
    }
   ],
   "source": [
    "\n",
    "#lmbdas=10**np.arange(1,5.1,0.5)\n",
    "lmbda=1\n",
    "sigma=10**(-2.4)\n",
    "\n",
    "trainfile=open('{0}/full/train_features_full.csv'.format(datapath,flod,flod+1))\n",
    "testfile=open('{0}/full/test_features_full.csv'.format(datapath,flod,flod+1))\n",
    "trainX=[]\n",
    "trainY=[]\n",
    "testX=[]\n",
    "testY=[]\n",
    "for line in trainfile:\n",
    "    line=line.split(',')[1:]\n",
    "    if line[0]=='safe_type':\n",
    "        continue\n",
    "    line=[float(k) for k in line]\n",
    "    trainX.append(line[1:])\n",
    "    trainY.append(line[0])\n",
    "trainX=np.array(trainX)\n",
    "trainY=np.array(trainY)[:,np.newaxis]\n",
    "trainY[trainY==0]=-1\n",
    "print(trainX.shape,trainY.shape)\n",
    "\n",
    "for line in testfile:\n",
    "    line=line.split(',')[1:]\n",
    "    if line[0]=='safe_type':\n",
    "        continue\n",
    "    line=[float(k) for k in line]\n",
    "    testX.append(line[1:])\n",
    "    testY.append(line[0])\n",
    "testX=np.array(testX)\n",
    "testY[testY==0]=-1\n",
    "testY=np.array(testY)[:,np.newaxis]\n",
    "print(testX.shape,testY.shape)\n",
    "    \n",
    "    \n",
    "\n",
    "sigma_round=round(sigma,2)\n",
    "if os.path.exists('{0}/full/K_train_{1}.npy'.format(datapath,sigma_round)) and os.path.exists('{0}full/K_test_{1}.npy'.format(datapath,sigma_round)):\n",
    "    K=np.load('{0}/full/K_train_{1}.npy'.format(datapath,sigma_round))\n",
    "    K_test=np.load('{0}/full/K_test_{1}.npy'.format(datapath,sigma_round))\n",
    "    print('load from file')\n",
    "    print(K.shape,K_test.shape)\n",
    "else:\n",
    "    m=trainX.shape[0]\n",
    "    K=np.zeros((m,m))\n",
    "    for i in range(0,m):\n",
    "        K[i,:]=rbfkernel(trainX[i,:],trainX,sigma)\n",
    "    print(K.shape)\n",
    "    np.save('{0}/full/K_train_{1}.npy'.format(datapath,sigma_round),K)\n",
    "\n",
    "    mt=testX.shape[0]\n",
    "    K_test=np.zeros((m,mt))\n",
    "    for j in range(0,mt):\n",
    "        K_test[:,j]=rbfkernel(trainX,testX[j,:],sigma)[:,0]\n",
    "    print(K_test.shape)\n",
    "    np.save('{0}/full/K_test_{1}.npy'.format(datapath,sigma_round),K_test)\n",
    "\n",
    "\n",
    "myw = trainklr(K,trainY,lmbda)\n",
    "\n",
    "ans=-(testY*(K_test.T@myw))\n",
    "np.sum(ans<=0)/testY.shape[0]\n",
    "outfile=open('{0}/full/result.csv'.format(datapath),'w')\n",
    "for i in range(0,testY.shape[0]):\n",
    "    outfile.write('{0},{1}\\n'.format(testY[i],int(ans[i]/abs(ans[i]))))\n",
    "print(err)"
   ]
  },
  {
   "cell_type": "code",
   "execution_count": 14,
   "metadata": {},
   "outputs": [],
   "source": [
    "ans=-(testY*(K_test.T@myw))\n",
    "np.sum(ans<=0)/testY.shape[0]\n",
    "outfile=open('{0}/full/result.csv'.format(datapath),'w')\n",
    "for i in range(0,testY.shape[0]):\n",
    "    outfile.write('{0},{1}\\n'.format(testY[i],int(ans[i])))\n",
    "outfile.close()"
   ]
  },
  {
   "cell_type": "code",
   "execution_count": null,
   "metadata": {},
   "outputs": [],
   "source": []
  }
 ],
 "metadata": {
  "kernelspec": {
   "display_name": "Python 3",
   "language": "python",
   "name": "python3"
  },
  "language_info": {
   "codemirror_mode": {
    "name": "ipython",
    "version": 2
   },
   "file_extension": ".py",
   "mimetype": "text/x-python",
   "name": "python",
   "nbconvert_exporter": "python",
   "pygments_lexer": "ipython2",
   "version": "2.7.16"
  }
 },
 "nbformat": 4,
 "nbformat_minor": 2
}
